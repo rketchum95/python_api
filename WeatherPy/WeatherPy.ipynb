{
 "cells": [
  {
   "cell_type": "markdown",
   "metadata": {},
   "source": [
    "# WeatherPy\n",
    "----\n",
    "\n",
    "#### Analysis\n",
    "* Tempertures rise the as you get closer to the equator.  \n",
    "* The northern hemisphere has a wider spread of temperatures vs the southern hemisphere.  This potentially could be a result of spring weather. \n",
    "* Humidity, cloudiness, and wind speed are not affected by latitude overall or for either the northern or southern hemisphere."
   ]
  },
  {
   "cell_type": "code",
   "execution_count": 1,
   "metadata": {
    "scrolled": true
   },
   "outputs": [],
   "source": [
    "# Dependencies and Setup\n",
    "import matplotlib.pyplot as plt\n",
    "import pandas as pd\n",
    "import numpy as np\n",
    "import requests\n",
    "import time\n",
    "from datetime import datetime,timedelta\n",
    "from scipy.stats import linregress\n",
    "\n",
    "# Import API key\n",
    "from config import weather_api_key\n",
    "\n",
    "# Incorporated citipy to determine city based on latitude and longitude\n",
    "from citipy import citipy\n",
    "\n",
    "# Output File (CSV)\n",
    "output_data_file = \"output_data/cities.csv\"\n",
    "\n",
    "# Range of latitudes and longitudes\n",
    "lat_range = (-90, 90)\n",
    "lng_range = (-180, 180)"
   ]
  },
  {
   "cell_type": "markdown",
   "metadata": {},
   "source": [
    "## Generate Cities List"
   ]
  },
  {
   "cell_type": "code",
   "execution_count": 2,
   "metadata": {},
   "outputs": [
    {
     "data": {
      "text/plain": [
       "629"
      ]
     },
     "execution_count": 2,
     "metadata": {},
     "output_type": "execute_result"
    }
   ],
   "source": [
    "# List for holding lat_lngs and cities\n",
    "lat_lngs = []\n",
    "cities = []\n",
    "\n",
    "# Create a set of random lat and lng combinations\n",
    "lats = np.random.uniform(lat_range[0], lat_range[1], size=1500)\n",
    "lngs = np.random.uniform(lng_range[0], lng_range[1], size=1500)\n",
    "lat_lngs = zip(lats, lngs)\n",
    "\n",
    "# Identify nearest city for each lat, lng combination\n",
    "for lat_lng in lat_lngs:\n",
    "    city = citipy.nearest_city(lat_lng[0], lat_lng[1]).city_name\n",
    "    \n",
    "    # If the city is unique, then add it to a our cities list\n",
    "    if city not in cities:\n",
    "        cities.append(city)\n",
    "\n",
    "# Print the city count to confirm sufficient count\n",
    "len(cities)"
   ]
  },
  {
   "cell_type": "markdown",
   "metadata": {},
   "source": [
    "### Perform API Calls\n",
    "* Perform a weather check on each city using a series of successive API calls.\n",
    "* Include a print log of each city as it'sbeing processed (with the city number and city name).\n"
   ]
  },
  {
   "cell_type": "code",
   "execution_count": 3,
   "metadata": {},
   "outputs": [
    {
     "name": "stdout",
     "output_type": "stream",
     "text": [
      "egvekinot: 4031742\n",
      "ushuaia: 3833367\n",
      "punta arenas: 3874787\n",
      "yellowknife: 6185377\n",
      "atambua: 1651103\n",
      "qaanaaq: 3831208\n",
      "hermanus: 3366880\n",
      "bredasdorp: 1015776\n",
      "avarua: 4035715\n",
      "kamenskoye is not available\n",
      "attawapiskat is not available\n",
      "puerto lleras: 3671424\n",
      "amderma is not available\n",
      "blagoyevo: 576093\n",
      "fort nelson: 5955902\n",
      "ambulu: 1621313\n",
      "port alfred: 964432\n",
      "marcona is not available\n",
      "knysna: 988698\n",
      "rikitea: 4030556\n",
      "yarada: 1252783\n",
      "ribeira grande: 3372707\n",
      "vanavara: 2013727\n",
      "husum: 2897132\n",
      "port lincoln: 2063036\n",
      "mapiripan: 3792394\n",
      "victoria: 1819729\n",
      "isangel: 2136825\n",
      "ust-nera: 2120048\n",
      "longyearbyen: 2729907\n",
      "new norfolk: 2155415\n",
      "yulara: 6355222\n",
      "bandarbeyla: 64814\n",
      "taolanaro is not available\n",
      "vulcan: 662432\n",
      "chokurdakh: 2126123\n",
      "nizhneyansk is not available\n",
      "severo-kurilsk: 2121385\n",
      "north bend: 5742974\n",
      "tiznit: 2527087\n",
      "yermakovskoye: 1485904\n",
      "busselton: 2075265\n",
      "lebu: 3883457\n",
      "chulym: 1507679\n",
      "mataura: 6201424\n",
      "constitucion: 3893726\n",
      "harper: 2276492\n",
      "tasiilaq: 3424607\n",
      "inirida: 3671450\n",
      "havre-saint-pierre: 5972291\n",
      "mayo: 4362001\n",
      "leningradskiy: 2123814\n",
      "carnarvon: 2074865\n",
      "barentsburg is not available\n",
      "vila franca do campo: 3372472\n",
      "chuy: 3443061\n",
      "bluff: 2206939\n",
      "kendari: 1640344\n",
      "byron bay: 2172880\n",
      "puerto ayora: 3652764\n",
      "portland: 5746545\n",
      "barrow: 5880054\n",
      "mentok is not available\n",
      "vaini: 4032243\n",
      "kurilsk: 2123979\n",
      "gympie: 2164129\n",
      "shieli: 1524801\n",
      "chatellerault: 3026141\n",
      "saskylakh: 2017155\n",
      "kapaa: 5848280\n",
      "cidreira: 3466165\n",
      "albany: 5106841\n",
      "nouadhibou: 2377457\n",
      "vilhena: 3924679\n",
      "fortuna: 5563839\n",
      "provideniya: 4031574\n",
      "padang: 1633419\n",
      "touros: 3386213\n",
      "castro: 3466704\n",
      "pevek: 2122090\n",
      "marawi: 1701054\n",
      "luderitz: 3355672\n",
      "hokitika: 2206894\n",
      "hithadhoo: 1282256\n",
      "satitoa is not available\n",
      "saint-pierre: 935214\n",
      "hobart: 2163355\n",
      "saldanha: 3361934\n",
      "port hawkesbury: 6111867\n",
      "bozoum: 2387546\n",
      "scunthorpe: 2638324\n",
      "hilo: 5855927\n",
      "wanning: 1791779\n",
      "adrar: 2381972\n",
      "bilibino: 2126682\n",
      "nguiu is not available\n",
      "tangi: 1163927\n",
      "acapulco: 3533462\n",
      "pandamatenga: 933178\n",
      "the valley: 3573374\n",
      "karratha: 6620339\n",
      "bokony: 722133\n",
      "agbor: 2351979\n",
      "yerbogachen: 2012956\n",
      "cody: 5821593\n",
      "yar-sale: 1486321\n",
      "iguape: 3461465\n",
      "vestmanna: 2610343\n",
      "ponta do sol: 2264557\n",
      "illoqqortoormiut is not available\n",
      "sentyabrskiy is not available\n",
      "chota: 3698141\n",
      "khatanga: 2022572\n",
      "berlevag: 780687\n",
      "strezhevoy: 1490796\n",
      "tabou: 2281120\n",
      "bargal is not available\n",
      "mirnyy: 2019951\n",
      "moron: 3430545\n",
      "yatou: 1786855\n",
      "lagoa: 3372964\n",
      "taksimo: 2015701\n",
      "seoul: 1835848\n",
      "gamba: 2400547\n",
      "la ronge: 6050066\n",
      "sioux lookout: 6148373\n",
      "warqla is not available\n",
      "dzilam gonzalez: 3529654\n",
      "atuona: 4020109\n",
      "cayenne: 3382160\n",
      "boa vista: 3664980\n",
      "ngukurr is not available\n",
      "mys shmidta is not available\n",
      "baruun-urt: 2032614\n",
      "salzgitter: 2842150\n",
      "hualmay: 3939761\n",
      "port elizabeth: 964420\n",
      "namibe: 3347019\n",
      "laguna: 5364271\n",
      "hambantota: 1244926\n",
      "balkanabat: 161616\n",
      "wicklow: 2960935\n",
      "pembroke: 6100832\n",
      "vardo: 777019\n",
      "thinadhoo: 1337610\n",
      "tuktoyaktuk: 6170031\n",
      "cape town: 3369157\n",
      "rawannawi is not available\n",
      "jamestown: 5122534\n",
      "hohhot: 2036892\n",
      "bambous virieux: 1106677\n",
      "margate: 2643044\n",
      "palabuhanratu is not available\n",
      "kirakira: 2178753\n",
      "ewa beach: 5855051\n",
      "mar del plata: 3430863\n",
      "belushya guba is not available\n",
      "faya: 110690\n",
      "hamilton: 4513583\n",
      "tezu: 1254709\n",
      "alberton: 5883166\n",
      "saint-philippe: 935215\n",
      "coahuayana: 4013679\n",
      "ilulissat: 3423146\n",
      "doha: 290030\n",
      "barcelos: 2742416\n",
      "jitauna: 3459876\n",
      "fenoarivo: 1070940\n",
      "lorengau: 2092164\n",
      "el tigre: 3641351\n",
      "numan: 2328617\n",
      "torbay: 6167817\n",
      "butaritari: 2110227\n",
      "knittelfeld: 2773887\n",
      "vila velha: 3445026\n",
      "nisia floresta: 3393922\n",
      "keti bandar: 1174451\n",
      "clyde river: 5924351\n",
      "mvuma: 884814\n",
      "worthington: 5177396\n",
      "kahului: 5847411\n",
      "coolum beach: 2170581\n",
      "santa maria: 3450083\n",
      "utiroa is not available\n",
      "fairbanks: 5861897\n",
      "klyuchevskiy: 2021980\n",
      "trinidad: 3902377\n",
      "skagastrond is not available\n",
      "sao gabriel da cachoeira: 3662342\n",
      "faanui: 4034551\n",
      "pyay: 1299154\n",
      "narsaq: 3421719\n",
      "gushikawa: 1863495\n",
      "mount gambier: 2156643\n",
      "yashkul: 468747\n",
      "solnechnyy: 2016307\n",
      "fevralsk is not available\n",
      "hochstadt: 3272957\n",
      "dalbeattie: 2651609\n",
      "yeppoon: 2142316\n",
      "hengyang: 1808370\n",
      "gazni is not available\n",
      "broken hill: 2173911\n",
      "koslan: 544084\n",
      "cermik: 318766\n",
      "airai: 1651810\n",
      "malwan is not available\n",
      "bethel: 5282297\n",
      "namatanai: 2090021\n",
      "muscat: 287286\n",
      "port-gentil: 2396518\n",
      "apricena: 3182958\n",
      "mountain home: 5601615\n",
      "nanortalik: 3421765\n",
      "coquimbo: 3893629\n",
      "thompson: 6165406\n",
      "uri: 1253694\n",
      "hirado: 1862555\n",
      "hastings: 2647356\n",
      "olafsvik: 3414079\n",
      "lundazi: 909299\n",
      "emba: 609924\n",
      "santa cruz: 3904906\n",
      "gladstone: 2165478\n",
      "lavrentiya: 4031637\n",
      "torbat-e jam: 1159362\n",
      "hasaki: 2112802\n",
      "dawlatabad: 1142226\n",
      "mumford: 2297810\n",
      "mindelo: 3374462\n",
      "slave lake: 6149374\n",
      "katsuura: 2112309\n",
      "green river: 5826559\n",
      "saleaula is not available\n",
      "back mountain: 5178800\n",
      "sitka: 5557293\n",
      "clinton: 4989133\n",
      "kieta: 2094027\n",
      "linqing: 1803367\n",
      "pacifica: 5380420\n",
      "henties bay: 3356832\n",
      "codrington: 2171099\n",
      "flinders: 6255012\n",
      "potosi: 3907584\n",
      "warmbad: 3352263\n",
      "oum hadjer: 2426370\n",
      "bengkulu: 1649150\n",
      "horstel: 2898603\n",
      "korenovsk: 544896\n",
      "pacific grove: 5380437\n",
      "senanga: 898947\n",
      "cabo san lucas: 3985710\n",
      "tsihombe is not available\n",
      "bathsheba: 3374083\n",
      "baft: 390054\n",
      "pisco: 3932145\n",
      "sobolevo: 525426\n",
      "husavik: 2629833\n",
      "gilgit: 1178338\n",
      "zaria: 2317765\n",
      "haibowan is not available\n",
      "japura: 1642773\n",
      "paamiut: 3421193\n",
      "tanquian is not available\n",
      "varena: 593406\n",
      "sistranda: 3139597\n",
      "binga: 895057\n",
      "ola: 2122574\n",
      "pangnirtung: 6096551\n",
      "menongue: 3347353\n",
      "terrell: 4736028\n",
      "guerrero negro: 4021858\n",
      "terrak: 3134658\n",
      "gazanjyk: 161974\n",
      "irtyshskiy: 1505495\n",
      "socorro: 5530932\n",
      "yushu: 2033242\n",
      "tazovskiy: 1489853\n",
      "muisne: 3653967\n",
      "tiksi: 2015306\n",
      "srednekolymsk: 2121025\n",
      "beloha: 1067565\n",
      "elizabeth city: 4465088\n",
      "sao filipe: 3374210\n",
      "kavieng: 2094342\n",
      "burica is not available\n",
      "rawson: 3839307\n",
      "nishiwaki: 1855134\n",
      "gravdal: 3155152\n",
      "iralaya: 3608828\n",
      "ulaangom: 1515029\n",
      "priiskovyy: 2017632\n",
      "dire dawa: 338832\n",
      "nicoya: 3622716\n",
      "ugoofaaru: 1337619\n",
      "bereda: 3105522\n",
      "camiri: 3922414\n",
      "tuatapere: 2180815\n",
      "cukai: 1732945\n",
      "ixtapa: 4004293\n",
      "kyrylivka: 705852\n",
      "pascagoula: 4440397\n",
      "beringovskiy: 2126710\n",
      "kiama: 2161515\n",
      "bukoba: 160961\n",
      "viesca: 3980230\n",
      "xixiang: 1788206\n",
      "neiafu: 4032420\n",
      "roald: 3141667\n",
      "saint-esteve: 6441022\n",
      "tiarei: 4033356\n",
      "sur: 286245\n",
      "trabzon: 738647\n",
      "hofn: 2630299\n",
      "port hedland: 2063042\n",
      "san cristobal: 3628473\n",
      "joensuu: 655808\n",
      "liepaja: 457955\n",
      "sundargarh: 1255437\n",
      "zaporizhzhya: 687700\n",
      "nikolskoye: 546105\n",
      "koson: 1217007\n",
      "avera: 4231997\n",
      "urucara: 3385670\n",
      "ormond beach: 4167178\n",
      "cap malheureux: 934649\n",
      "esperance: 2071860\n",
      "guanica: 4565090\n",
      "stokmarknes: 3136690\n",
      "cedar falls: 4850699\n",
      "sisimiut: 3419842\n",
      "atar: 2381334\n",
      "nelson bay: 2155562\n",
      "kaeo: 2189343\n",
      "san andres: 3670218\n",
      "mehamn: 778707\n",
      "fukue: 1863997\n",
      "nam tha is not available\n",
      "puerto varas: 3874930\n",
      "nara: 1855612\n",
      "port blair: 1259385\n",
      "bilma: 2446796\n",
      "beyneu: 610298\n",
      "karistos is not available\n",
      "redmond: 5808079\n",
      "tres lagoas: 3446098\n",
      "moose factory: 6078372\n",
      "grand-santi: 3381538\n",
      "tabas: 113659\n",
      "new albany: 4262045\n",
      "geraldton: 2070998\n",
      "diamantina: 3464728\n",
      "krasnovishersk: 542184\n",
      "klaksvik: 2618795\n",
      "limoges: 2998285\n",
      "ahipara: 2194098\n",
      "floro: 3156980\n",
      "dukhovnitskoye: 564241\n",
      "georgetown: 1735106\n",
      "baykit: 1510689\n",
      "bud: 4255151\n",
      "warrington: 2634739\n",
      "kodiak: 5866583\n",
      "vaitupu is not available\n",
      "cherskiy: 2126199\n",
      "kysyl-syr: 2021017\n",
      "huarmey: 3939168\n",
      "siderno: 6540819\n",
      "lakselv: 779082\n",
      "jiwani: 1175712\n",
      "itarema: 3393692\n",
      "puerto quijarro: 3444201\n",
      "takanabe: 1851068\n",
      "shymkent: 1518980\n",
      "wanxian: 1791748\n",
      "arraial do cabo: 3471451\n",
      "dali: 1814093\n",
      "molfetta: 3173287\n",
      "crossfield: 5933070\n",
      "turayf: 101312\n",
      "danielskuil: 1011918\n",
      "upernavik: 3418910\n",
      "paducah: 4048662\n",
      "babanusah is not available\n",
      "lingolsheim: 2998224\n",
      "tucumcari: 5495360\n",
      "guelengdeng is not available\n",
      "havoysund: 779622\n",
      "kovdor: 543508\n",
      "kaitangata: 2208248\n",
      "najran: 103630\n",
      "tigil: 2120612\n",
      "mount pleasant: 4588165\n",
      "half moon bay: 5354943\n",
      "gornopravdinsk: 1506268\n",
      "tynda: 2014718\n",
      "uruzgan: 1131461\n",
      "tabiauea is not available\n",
      "bubaque: 2374583\n",
      "east london: 1006984\n",
      "tubinskiy: 480704\n",
      "tukrah: 88834\n",
      "raudeberg: 3146487\n",
      "awbari: 2219235\n",
      "podyuga: 507899\n",
      "kaliganj: 1185199\n",
      "omboue: 2396853\n",
      "alofi: 4036284\n",
      "zhicheng: 1784554\n",
      "nachalovo: 523734\n",
      "kidal: 2455290\n",
      "orotukan: 2122414\n",
      "agadez: 2448083\n",
      "port augusta: 2063056\n",
      "pangai: 4032369\n",
      "buchanan: 2278158\n",
      "ponta delgada: 3372783\n",
      "luba: 2309528\n",
      "yushala: 1485664\n",
      "umm kaddadah: 364933\n",
      "yizhivtsi: 707313\n",
      "buqayq is not available\n",
      "inhambane: 1045114\n",
      "dikson: 1507390\n",
      "meulaboh: 1214488\n",
      "alugan: 1731248\n",
      "tabuk: 1684803\n",
      "samarai: 2132606\n",
      "bucerias: 4016734\n",
      "sagana: 180868\n",
      "puerto el triunfo: 3584003\n",
      "camacha: 2270385\n",
      "kathu: 1153035\n",
      "erzin: 296852\n",
      "haapiti: 4034438\n",
      "kaka: 161901\n",
      "coihaique: 3894426\n"
     ]
    },
    {
     "name": "stdout",
     "output_type": "stream",
     "text": [
      "det udom: 1610940\n",
      "nuuk: 3421319\n",
      "san patricio: 4726521\n",
      "bowmore: 4486983\n",
      "oshnaviyeh: 121795\n",
      "yokadouma: 2220853\n",
      "gambela: 337405\n",
      "mount isa: 2065594\n",
      "chimbote: 3698304\n",
      "grindavik: 3416888\n",
      "te anau: 2181625\n",
      "sao jose da coroa grande: 3388456\n",
      "goksun: 314188\n",
      "tumannyy is not available\n",
      "ust-kamchatsk is not available\n",
      "marivan: 97572\n",
      "kanniyakumari: 1268008\n",
      "naze: 1855540\n",
      "sukaraja: 1626313\n",
      "kamenka: 553766\n",
      "aranos: 3358666\n",
      "tvoroyri: 2611060\n",
      "batagay: 2027044\n",
      "urumqi: 1529102\n",
      "poum: 2138555\n",
      "asaba: 2349276\n",
      "san jose: 5392171\n",
      "dunedin: 2191562\n",
      "karamay is not available\n",
      "talnakh: 1490256\n",
      "meyungs is not available\n",
      "ambikapur: 1278827\n",
      "saint simons: 4220862\n",
      "flic en flac: 934517\n",
      "plaine magnien: 934169\n",
      "derzhavinsk: 1524606\n",
      "san vicente: 3428068\n",
      "bollnas: 2720679\n",
      "piet retief: 965241\n",
      "mahanje: 155285\n",
      "kachug: 2023333\n",
      "nyimba: 900056\n",
      "viedma: 3832899\n",
      "zhemchuzhnyy is not available\n",
      "shubarshi: 608270\n",
      "ust-tsilma: 477940\n",
      "debre sina: 339692\n",
      "teneguiban is not available\n",
      "brockville: 5909294\n",
      "nakamura: 1855891\n",
      "ostrow mazowiecka: 762850\n",
      "samusu is not available\n",
      "barawe is not available\n",
      "kyabe: 2429344\n",
      "epiniana: 256508\n",
      "lavumisa: 935051\n",
      "sorvag is not available\n",
      "marrakesh: 2542997\n",
      "vaitape: 4033077\n",
      "bogorodskoye: 575521\n",
      "moroni: 921772\n",
      "kruisfontein: 986717\n",
      "ibate: 3461625\n",
      "embonas: 262698\n",
      "at-bashi: 1528796\n",
      "ramhormoz: 118826\n",
      "quang ngai: 1568770\n",
      "tura: 1254046\n",
      "iqaluit: 5983720\n",
      "zhanaozen: 607610\n",
      "ketchikan: 5554428\n",
      "chastyye: 569794\n",
      "zyryanka: 2119283\n",
      "klyuchi: 1503153\n",
      "ostrovnoy: 556268\n",
      "jaunjelgava: 459402\n",
      "dien bien is not available\n",
      "unguia: 3666475\n",
      "sakakah: 102527\n",
      "aswan: 359792\n",
      "abu samrah: 172515\n",
      "san rafael: 3836669\n",
      "roma: 5134295\n",
      "agirish: 1512101\n",
      "price: 5545269\n",
      "ravar: 118704\n",
      "inuvik: 5983607\n",
      "ayan: 2027316\n",
      "vetlanda: 2663293\n",
      "trincomalee: 1226260\n",
      "cockburn harbour is not available\n",
      "noumea: 2139521\n",
      "kasongo-lunda: 2315026\n",
      "puerto penasco: 3991347\n",
      "deh rawud is not available\n",
      "atbasar: 1526038\n",
      "suluq: 81604\n",
      "dingle: 1714733\n",
      "jacksonville: 4160021\n",
      "havelock: 4470244\n",
      "kyaukse: 1316703\n",
      "lata: 2738381\n",
      "mafinga: 155405\n",
      "san ignacio: 3581194\n",
      "taybad: 1159384\n",
      "semenivka: 694590\n",
      "walvis bay: 3359638\n",
      "norman wells: 6089245\n",
      "villaba: 1679945\n",
      "fare: 4034496\n",
      "kaduna: 2335727\n",
      "los llanos de aridane: 2514651\n",
      "russell: 4047434\n",
      "mahibadhoo: 1337605\n",
      "jimma: 333772\n",
      "gizo: 2108857\n",
      "mocuba: 1024312\n",
      "encinitas: 5346646\n",
      "akhmeta: 615844\n",
      "dwarka: 1272140\n",
      "ahuimanu: 5856516\n",
      "algiers: 2507480\n",
      "rabo de peixe: 3372745\n",
      "ternate: 1624041\n",
      "lang son: 1576633\n",
      "yei: 363619\n",
      "luwuk: 1637001\n",
      "pozo colorado: 3437443\n",
      "vao: 2137773\n",
      "hanover: 2910831\n",
      "halalo is not available\n",
      "khonuu is not available\n",
      "alepe: 2293045\n",
      "centralia: 5789683\n",
      "copiapo: 3893656\n",
      "portree: 2640006\n",
      "chara: 2025630\n",
      "shenjiamen: 1795632\n",
      "betioky: 1066310\n",
      "suntar: 2015913\n",
      "ondorhaan is not available\n",
      "senmonorom is not available\n",
      "pandan: 1695546\n",
      "lodwar: 189280\n",
      "la mana: 3655117\n",
      "markala: 2453662\n",
      "arlit: 2447513\n",
      "lolua is not available\n",
      "nizwa: 286987\n",
      "san carlos de bariloche: 7647007\n",
      "mersing: 1732826\n",
      "hit: 95788\n",
      "dongning: 2037611\n",
      "sawtell: 2150163\n",
      "innisfail: 2162683\n",
      "muscle shoals: 4078964\n",
      "newnan: 4212684\n",
      "inverell: 2162662\n",
      "muros: 3115824\n",
      "buala: 2109528\n",
      "saint george: 5546220\n",
      "pauini: 3662927\n",
      "sept-iles: 6144312\n",
      "tawnat is not available\n",
      "leh: 1264976\n",
      "riyadh: 108410\n",
      "fruitvale: 5422557\n",
      "formoso do araguaia is not available\n",
      "sabang: 1214026\n",
      "kawana waters is not available\n",
      "wulanhaote is not available\n",
      "maldonado: 3441890\n",
      "port hardy: 6111862\n",
      "lazaro cardenas: 4026082\n",
      "chumikan: 2025256\n",
      "kluang: 1732811\n",
      "minab: 123941\n",
      "orchard homes: 5670128\n",
      "waingapu: 1622318\n",
      "singaraja: 1626932\n",
      "potam: 3992154\n",
      "shellbrook: 6145951\n",
      "sabzevar: 118063\n",
      "dieppe: 3021410\n",
      "besikduzu: 750735\n",
      "pipri: 1259552\n",
      "milingimbi is not available\n",
      "kalmunai: 1242110\n",
      "balikpapan: 1650527\n",
      "kasempa: 912628\n",
      "santiago del estero: 3835869\n",
      "ankara: 323786\n"
     ]
    }
   ],
   "source": [
    "url = \"http://api.openweathermap.org/data/2.5/weather?\"\n",
    "city_name=[]\n",
    "city_id =[]\n",
    "country=[]\n",
    "lat=[]\n",
    "long=[]\n",
    "temp=[]\n",
    "clouds=[]\n",
    "humidity=[]\n",
    "wind_speed=[]\n",
    "max_temp=[]\n",
    "dt=[]\n",
    "\n",
    "\n",
    "\n",
    "for city in cities:\n",
    "    query_url = url + \"appid=\" + weather_api_key + \"&q=\" + city + \"&units=\"+ 'imperial'\n",
    "    weather_response1 = requests.get(query_url)\n",
    "    weather1_json = weather_response1.json()\n",
    "    try:\n",
    "        city_name.append(weather1_json['name'])\n",
    "        city_id.append(weather1_json['id'])\n",
    "        country.append(weather1_json['sys']['country'])\n",
    "        dt.append(weather1_json['dt'])\n",
    "        temp.append(weather1_json['main']['temp'])\n",
    "        max_temp.append(weather1_json['main']['temp_max'])\n",
    "        lat.append(weather1_json['coord']['lat'])\n",
    "        long.append(weather1_json['coord']['lon'])\n",
    "        clouds.append(weather1_json['clouds']['all'])\n",
    "        humidity.append(weather1_json['main']['humidity'])\n",
    "        wind_speed.append(weather1_json['wind']['speed'])\n",
    "        \n",
    "        print(f\"{city}: {weather1_json['id']}\")\n",
    "    except KeyError:\n",
    "        print(f\"{city} is not available\")\n",
    "        "
   ]
  },
  {
   "cell_type": "code",
   "execution_count": 4,
   "metadata": {},
   "outputs": [
    {
     "data": {
      "text/plain": [
       "571"
      ]
     },
     "execution_count": 4,
     "metadata": {},
     "output_type": "execute_result"
    }
   ],
   "source": [
    "len(max_temp)"
   ]
  },
  {
   "cell_type": "markdown",
   "metadata": {},
   "source": [
    "### Convert Raw Data to DataFrame\n",
    "* Export the city data into a .csv.\n",
    "* Display the DataFrame"
   ]
  },
  {
   "cell_type": "code",
   "execution_count": 5,
   "metadata": {},
   "outputs": [
    {
     "data": {
      "text/html": [
       "<div>\n",
       "<style scoped>\n",
       "    .dataframe tbody tr th:only-of-type {\n",
       "        vertical-align: middle;\n",
       "    }\n",
       "\n",
       "    .dataframe tbody tr th {\n",
       "        vertical-align: top;\n",
       "    }\n",
       "\n",
       "    .dataframe thead th {\n",
       "        text-align: right;\n",
       "    }\n",
       "</style>\n",
       "<table border=\"1\" class=\"dataframe\">\n",
       "  <thead>\n",
       "    <tr style=\"text-align: right;\">\n",
       "      <th></th>\n",
       "      <th>city</th>\n",
       "      <th>city_id</th>\n",
       "      <th>country</th>\n",
       "      <th>utc_dt</th>\n",
       "      <th>latitude</th>\n",
       "      <th>longitude</th>\n",
       "      <th>temperature</th>\n",
       "      <th>max_temp</th>\n",
       "      <th>cloudiness</th>\n",
       "      <th>humidity</th>\n",
       "      <th>wind_speed</th>\n",
       "    </tr>\n",
       "  </thead>\n",
       "  <tbody>\n",
       "    <tr>\n",
       "      <th>0</th>\n",
       "      <td>Egvekinot</td>\n",
       "      <td>4031742</td>\n",
       "      <td>RU</td>\n",
       "      <td>1619410535</td>\n",
       "      <td>66.3167</td>\n",
       "      <td>-179.1667</td>\n",
       "      <td>29.05</td>\n",
       "      <td>29.05</td>\n",
       "      <td>15</td>\n",
       "      <td>89</td>\n",
       "      <td>0.43</td>\n",
       "    </tr>\n",
       "    <tr>\n",
       "      <th>1</th>\n",
       "      <td>Ushuaia</td>\n",
       "      <td>3833367</td>\n",
       "      <td>AR</td>\n",
       "      <td>1619410536</td>\n",
       "      <td>-54.8000</td>\n",
       "      <td>-68.3000</td>\n",
       "      <td>46.40</td>\n",
       "      <td>46.40</td>\n",
       "      <td>75</td>\n",
       "      <td>76</td>\n",
       "      <td>12.66</td>\n",
       "    </tr>\n",
       "    <tr>\n",
       "      <th>2</th>\n",
       "      <td>Punta Arenas</td>\n",
       "      <td>3874787</td>\n",
       "      <td>CL</td>\n",
       "      <td>1619409996</td>\n",
       "      <td>-53.1500</td>\n",
       "      <td>-70.9167</td>\n",
       "      <td>44.29</td>\n",
       "      <td>44.60</td>\n",
       "      <td>90</td>\n",
       "      <td>93</td>\n",
       "      <td>5.75</td>\n",
       "    </tr>\n",
       "    <tr>\n",
       "      <th>3</th>\n",
       "      <td>Yellowknife</td>\n",
       "      <td>6185377</td>\n",
       "      <td>CA</td>\n",
       "      <td>1619410536</td>\n",
       "      <td>62.4560</td>\n",
       "      <td>-114.3525</td>\n",
       "      <td>6.40</td>\n",
       "      <td>6.80</td>\n",
       "      <td>90</td>\n",
       "      <td>78</td>\n",
       "      <td>12.66</td>\n",
       "    </tr>\n",
       "    <tr>\n",
       "      <th>4</th>\n",
       "      <td>Atambua</td>\n",
       "      <td>1651103</td>\n",
       "      <td>ID</td>\n",
       "      <td>1619410537</td>\n",
       "      <td>-9.1061</td>\n",
       "      <td>124.8925</td>\n",
       "      <td>82.76</td>\n",
       "      <td>82.76</td>\n",
       "      <td>26</td>\n",
       "      <td>45</td>\n",
       "      <td>2.44</td>\n",
       "    </tr>\n",
       "    <tr>\n",
       "      <th>...</th>\n",
       "      <td>...</td>\n",
       "      <td>...</td>\n",
       "      <td>...</td>\n",
       "      <td>...</td>\n",
       "      <td>...</td>\n",
       "      <td>...</td>\n",
       "      <td>...</td>\n",
       "      <td>...</td>\n",
       "      <td>...</td>\n",
       "      <td>...</td>\n",
       "      <td>...</td>\n",
       "    </tr>\n",
       "    <tr>\n",
       "      <th>566</th>\n",
       "      <td>Kalmunai</td>\n",
       "      <td>1242110</td>\n",
       "      <td>LK</td>\n",
       "      <td>1619410650</td>\n",
       "      <td>7.4167</td>\n",
       "      <td>81.8167</td>\n",
       "      <td>84.58</td>\n",
       "      <td>84.58</td>\n",
       "      <td>97</td>\n",
       "      <td>67</td>\n",
       "      <td>6.31</td>\n",
       "    </tr>\n",
       "    <tr>\n",
       "      <th>567</th>\n",
       "      <td>Balikpapan</td>\n",
       "      <td>1650527</td>\n",
       "      <td>ID</td>\n",
       "      <td>1619410629</td>\n",
       "      <td>-1.2675</td>\n",
       "      <td>116.8289</td>\n",
       "      <td>85.95</td>\n",
       "      <td>85.95</td>\n",
       "      <td>43</td>\n",
       "      <td>61</td>\n",
       "      <td>6.33</td>\n",
       "    </tr>\n",
       "    <tr>\n",
       "      <th>568</th>\n",
       "      <td>Kasempa</td>\n",
       "      <td>912628</td>\n",
       "      <td>ZM</td>\n",
       "      <td>1619410727</td>\n",
       "      <td>-13.4584</td>\n",
       "      <td>25.8338</td>\n",
       "      <td>59.09</td>\n",
       "      <td>59.09</td>\n",
       "      <td>15</td>\n",
       "      <td>79</td>\n",
       "      <td>4.74</td>\n",
       "    </tr>\n",
       "    <tr>\n",
       "      <th>569</th>\n",
       "      <td>Santiago del Estero</td>\n",
       "      <td>3835869</td>\n",
       "      <td>AR</td>\n",
       "      <td>1619410728</td>\n",
       "      <td>-27.7951</td>\n",
       "      <td>-64.2615</td>\n",
       "      <td>59.86</td>\n",
       "      <td>59.86</td>\n",
       "      <td>0</td>\n",
       "      <td>67</td>\n",
       "      <td>6.40</td>\n",
       "    </tr>\n",
       "    <tr>\n",
       "      <th>570</th>\n",
       "      <td>Ankara</td>\n",
       "      <td>323786</td>\n",
       "      <td>TR</td>\n",
       "      <td>1619410653</td>\n",
       "      <td>39.9199</td>\n",
       "      <td>32.8543</td>\n",
       "      <td>48.94</td>\n",
       "      <td>50.00</td>\n",
       "      <td>75</td>\n",
       "      <td>93</td>\n",
       "      <td>2.30</td>\n",
       "    </tr>\n",
       "  </tbody>\n",
       "</table>\n",
       "<p>571 rows × 11 columns</p>\n",
       "</div>"
      ],
      "text/plain": [
       "                    city  city_id country      utc_dt  latitude  longitude  \\\n",
       "0              Egvekinot  4031742      RU  1619410535   66.3167  -179.1667   \n",
       "1                Ushuaia  3833367      AR  1619410536  -54.8000   -68.3000   \n",
       "2           Punta Arenas  3874787      CL  1619409996  -53.1500   -70.9167   \n",
       "3            Yellowknife  6185377      CA  1619410536   62.4560  -114.3525   \n",
       "4                Atambua  1651103      ID  1619410537   -9.1061   124.8925   \n",
       "..                   ...      ...     ...         ...       ...        ...   \n",
       "566             Kalmunai  1242110      LK  1619410650    7.4167    81.8167   \n",
       "567           Balikpapan  1650527      ID  1619410629   -1.2675   116.8289   \n",
       "568              Kasempa   912628      ZM  1619410727  -13.4584    25.8338   \n",
       "569  Santiago del Estero  3835869      AR  1619410728  -27.7951   -64.2615   \n",
       "570               Ankara   323786      TR  1619410653   39.9199    32.8543   \n",
       "\n",
       "     temperature  max_temp  cloudiness  humidity  wind_speed  \n",
       "0          29.05     29.05          15        89        0.43  \n",
       "1          46.40     46.40          75        76       12.66  \n",
       "2          44.29     44.60          90        93        5.75  \n",
       "3           6.40      6.80          90        78       12.66  \n",
       "4          82.76     82.76          26        45        2.44  \n",
       "..           ...       ...         ...       ...         ...  \n",
       "566        84.58     84.58          97        67        6.31  \n",
       "567        85.95     85.95          43        61        6.33  \n",
       "568        59.09     59.09          15        79        4.74  \n",
       "569        59.86     59.86           0        67        6.40  \n",
       "570        48.94     50.00          75        93        2.30  \n",
       "\n",
       "[571 rows x 11 columns]"
      ]
     },
     "execution_count": 5,
     "metadata": {},
     "output_type": "execute_result"
    }
   ],
   "source": [
    "weather_dict={'city': city_name,\n",
    "           'city_id':city_id,\n",
    "              'country':country,\n",
    "              'utc_dt':dt,\n",
    "           'latitude': lat,\n",
    "           'longitude': long,\n",
    "           'temperature': temp,\n",
    "           'max_temp':max_temp,\n",
    "           'cloudiness': clouds,\n",
    "           'humidity':humidity,\n",
    "           'wind_speed':wind_speed,\n",
    "             }\n",
    "weather_dict\n",
    "weather_df=pd.DataFrame(weather_dict)\n",
    "weather_df.to_csv(r'weather_search.csv',index=False)\n",
    "weather_df"
   ]
  },
  {
   "cell_type": "markdown",
   "metadata": {},
   "source": [
    "## Inspect the data and remove the cities where the humidity > 100%.\n",
    "----\n",
    "Skip this step if there are no cities that have humidity > 100%. "
   ]
  },
  {
   "cell_type": "code",
   "execution_count": 6,
   "metadata": {},
   "outputs": [
    {
     "data": {
      "text/plain": [
       "0"
      ]
     },
     "execution_count": 6,
     "metadata": {},
     "output_type": "execute_result"
    }
   ],
   "source": [
    "len(weather_df.loc[weather_df['humidity']>100])"
   ]
  },
  {
   "cell_type": "markdown",
   "metadata": {},
   "source": [
    "## Plotting the Data\n",
    "* Use proper labeling of the plots using plot titles (including date of analysis) and axes labels.\n",
    "* Save the plotted figures as .pngs."
   ]
  },
  {
   "cell_type": "markdown",
   "metadata": {},
   "source": [
    "## Latitude vs. Temperature Plot"
   ]
  },
  {
   "cell_type": "code",
   "execution_count": 7,
   "metadata": {
    "scrolled": true
   },
   "outputs": [
    {
     "data": {
      "image/png": "[encoded data removed]",
      "text/plain": [
       "<Figure size 432x288 with 1 Axes>"
      ]
     },
     "metadata": {
      "needs_background": "light"
     },
     "output_type": "display_data"
    }
   ],
   "source": [
    "x=weather_df['latitude']\n",
    "y=weather_df['temperature']\n",
    "\n",
    "plt.scatter(x,y)\n",
    "plt.xlabel(\"Latitude\")\n",
    "plt.ylabel(\"Temperature (F)\")\n",
    "plt.title(\"Temperature vs. Latitude \\n April 25, 2021\")\n",
    "plt.savefig('Temp_vs_Lat')\n",
    "plt.show()"
   ]
  },
  {
   "cell_type": "markdown",
   "metadata": {},
   "source": [
    "### Analysis\n",
    "- As expected, tempertures rise the as you get closer to the equator.  The northern hemispere is still in early sprig and therefore has lower temperatures.  (Analysis 4/25)"
   ]
  },
  {
   "cell_type": "markdown",
   "metadata": {},
   "source": [
    "## Latitude vs. Humidity Plot"
   ]
  },
  {
   "cell_type": "code",
   "execution_count": 8,
   "metadata": {},
   "outputs": [
    {
     "data": {
      "image/png": "[encoded data removed]",
      "text/plain": [
       "<Figure size 432x288 with 1 Axes>"
      ]
     },
     "metadata": {
      "needs_background": "light"
     },
     "output_type": "display_data"
    }
   ],
   "source": [
    "x=weather_df['latitude']\n",
    "y=weather_df['humidity']\n",
    "\n",
    "plt.scatter(x,y)\n",
    "plt.xlabel(\"Latitude\")\n",
    "plt.ylabel(\"Humidity\")\n",
    "plt.title(\"Humidity vs. Latitude \\n April 25, 2021\")\n",
    "plt.savefig('Humidity_vs_Lat')\n",
    "plt.show()"
   ]
  },
  {
   "cell_type": "markdown",
   "metadata": {},
   "source": [
    " ### Analysis\n",
    " - Latitude doesn't appear to have an effect on high levels of humidity.  Although lower humidity levels are more prominent in the northern hemisphere, which could be a seasonal effect. (Analysis 4/25)"
   ]
  },
  {
   "cell_type": "markdown",
   "metadata": {},
   "source": [
    "## Latitude vs. Cloudiness Plot"
   ]
  },
  {
   "cell_type": "code",
   "execution_count": 9,
   "metadata": {},
   "outputs": [
    {
     "data": {
      "image/png": "[encoded data removed]",
      "text/plain": [
       "<Figure size 432x288 with 1 Axes>"
      ]
     },
     "metadata": {
      "needs_background": "light"
     },
     "output_type": "display_data"
    }
   ],
   "source": [
    "x=weather_df['latitude']\n",
    "y=weather_df['cloudiness']\n",
    "\n",
    "plt.scatter(x,y)\n",
    "plt.xlabel(\"Latitude\")\n",
    "plt.ylabel(\"Cloudiness\")\n",
    "plt.title(\"Cloudiness vs. Latitude  \\n April 25, 2021\")\n",
    "plt.savefig('Cloudiness_vs_Lat')\n",
    "plt.show()"
   ]
  },
  {
   "cell_type": "markdown",
   "metadata": {},
   "source": [
    "### Analysis\n",
    "- Latitude doesn't have any affect on cloudiness.  (Analysis 4/25)"
   ]
  },
  {
   "cell_type": "markdown",
   "metadata": {},
   "source": [
    "## Latitude vs. Wind Speed Plot"
   ]
  },
  {
   "cell_type": "code",
   "execution_count": 10,
   "metadata": {},
   "outputs": [
    {
     "data": {
      "image/png": "[encoded data removed]",
      "text/plain": [
       "<Figure size 432x288 with 1 Axes>"
      ]
     },
     "metadata": {
      "needs_background": "light"
     },
     "output_type": "display_data"
    }
   ],
   "source": [
    "x=weather_df['latitude']\n",
    "y=weather_df['wind_speed']\n",
    "\n",
    "plt.scatter(x,y)\n",
    "plt.xlabel(\"Latitude\")\n",
    "plt.ylabel(\"Wind Speed\")\n",
    "plt.title(\"Wind Speed (mph) vs. Latitude  \\n April 25, 2021\")\n",
    "plt.savefig('WindSpeed_vs_Lat')\n",
    "plt.show()"
   ]
  },
  {
   "cell_type": "markdown",
   "metadata": {},
   "source": [
    "### Analysis\n",
    "- There doesn't appear to be any relationship between wind speed and latitude. (Analysis 4/25)"
   ]
  },
  {
   "cell_type": "markdown",
   "metadata": {},
   "source": [
    "## Linear Regression"
   ]
  },
  {
   "cell_type": "code",
   "execution_count": 11,
   "metadata": {},
   "outputs": [
    {
     "data": {
      "text/html": [
       "<div>\n",
       "<style scoped>\n",
       "    .dataframe tbody tr th:only-of-type {\n",
       "        vertical-align: middle;\n",
       "    }\n",
       "\n",
       "    .dataframe tbody tr th {\n",
       "        vertical-align: top;\n",
       "    }\n",
       "\n",
       "    .dataframe thead th {\n",
       "        text-align: right;\n",
       "    }\n",
       "</style>\n",
       "<table border=\"1\" class=\"dataframe\">\n",
       "  <thead>\n",
       "    <tr style=\"text-align: right;\">\n",
       "      <th></th>\n",
       "      <th>city</th>\n",
       "      <th>city_id</th>\n",
       "      <th>country</th>\n",
       "      <th>utc_dt</th>\n",
       "      <th>latitude</th>\n",
       "      <th>longitude</th>\n",
       "      <th>temperature</th>\n",
       "      <th>max_temp</th>\n",
       "      <th>cloudiness</th>\n",
       "      <th>humidity</th>\n",
       "      <th>wind_speed</th>\n",
       "    </tr>\n",
       "  </thead>\n",
       "  <tbody>\n",
       "    <tr>\n",
       "      <th>1</th>\n",
       "      <td>Ushuaia</td>\n",
       "      <td>3833367</td>\n",
       "      <td>AR</td>\n",
       "      <td>1619410536</td>\n",
       "      <td>-54.8000</td>\n",
       "      <td>-68.3000</td>\n",
       "      <td>46.40</td>\n",
       "      <td>46.40</td>\n",
       "      <td>75</td>\n",
       "      <td>76</td>\n",
       "      <td>12.66</td>\n",
       "    </tr>\n",
       "    <tr>\n",
       "      <th>2</th>\n",
       "      <td>Punta Arenas</td>\n",
       "      <td>3874787</td>\n",
       "      <td>CL</td>\n",
       "      <td>1619409996</td>\n",
       "      <td>-53.1500</td>\n",
       "      <td>-70.9167</td>\n",
       "      <td>44.29</td>\n",
       "      <td>44.60</td>\n",
       "      <td>90</td>\n",
       "      <td>93</td>\n",
       "      <td>5.75</td>\n",
       "    </tr>\n",
       "    <tr>\n",
       "      <th>4</th>\n",
       "      <td>Atambua</td>\n",
       "      <td>1651103</td>\n",
       "      <td>ID</td>\n",
       "      <td>1619410537</td>\n",
       "      <td>-9.1061</td>\n",
       "      <td>124.8925</td>\n",
       "      <td>82.76</td>\n",
       "      <td>82.76</td>\n",
       "      <td>26</td>\n",
       "      <td>45</td>\n",
       "      <td>2.44</td>\n",
       "    </tr>\n",
       "    <tr>\n",
       "      <th>6</th>\n",
       "      <td>Hermanus</td>\n",
       "      <td>3366880</td>\n",
       "      <td>ZA</td>\n",
       "      <td>1619410505</td>\n",
       "      <td>-34.4187</td>\n",
       "      <td>19.2345</td>\n",
       "      <td>60.01</td>\n",
       "      <td>60.01</td>\n",
       "      <td>1</td>\n",
       "      <td>92</td>\n",
       "      <td>7.00</td>\n",
       "    </tr>\n",
       "    <tr>\n",
       "      <th>7</th>\n",
       "      <td>Bredasdorp</td>\n",
       "      <td>1015776</td>\n",
       "      <td>ZA</td>\n",
       "      <td>1619409996</td>\n",
       "      <td>-34.5322</td>\n",
       "      <td>20.0403</td>\n",
       "      <td>51.80</td>\n",
       "      <td>51.80</td>\n",
       "      <td>93</td>\n",
       "      <td>93</td>\n",
       "      <td>4.61</td>\n",
       "    </tr>\n",
       "    <tr>\n",
       "      <th>...</th>\n",
       "      <td>...</td>\n",
       "      <td>...</td>\n",
       "      <td>...</td>\n",
       "      <td>...</td>\n",
       "      <td>...</td>\n",
       "      <td>...</td>\n",
       "      <td>...</td>\n",
       "      <td>...</td>\n",
       "      <td>...</td>\n",
       "      <td>...</td>\n",
       "      <td>...</td>\n",
       "    </tr>\n",
       "    <tr>\n",
       "      <th>558</th>\n",
       "      <td>Waingapu</td>\n",
       "      <td>1622318</td>\n",
       "      <td>ID</td>\n",
       "      <td>1619410609</td>\n",
       "      <td>-9.6567</td>\n",
       "      <td>120.2641</td>\n",
       "      <td>84.85</td>\n",
       "      <td>84.85</td>\n",
       "      <td>25</td>\n",
       "      <td>54</td>\n",
       "      <td>12.97</td>\n",
       "    </tr>\n",
       "    <tr>\n",
       "      <th>559</th>\n",
       "      <td>Singaraja</td>\n",
       "      <td>1626932</td>\n",
       "      <td>ID</td>\n",
       "      <td>1619410636</td>\n",
       "      <td>-8.1120</td>\n",
       "      <td>115.0882</td>\n",
       "      <td>86.58</td>\n",
       "      <td>86.58</td>\n",
       "      <td>0</td>\n",
       "      <td>60</td>\n",
       "      <td>3.27</td>\n",
       "    </tr>\n",
       "    <tr>\n",
       "      <th>567</th>\n",
       "      <td>Balikpapan</td>\n",
       "      <td>1650527</td>\n",
       "      <td>ID</td>\n",
       "      <td>1619410629</td>\n",
       "      <td>-1.2675</td>\n",
       "      <td>116.8289</td>\n",
       "      <td>85.95</td>\n",
       "      <td>85.95</td>\n",
       "      <td>43</td>\n",
       "      <td>61</td>\n",
       "      <td>6.33</td>\n",
       "    </tr>\n",
       "    <tr>\n",
       "      <th>568</th>\n",
       "      <td>Kasempa</td>\n",
       "      <td>912628</td>\n",
       "      <td>ZM</td>\n",
       "      <td>1619410727</td>\n",
       "      <td>-13.4584</td>\n",
       "      <td>25.8338</td>\n",
       "      <td>59.09</td>\n",
       "      <td>59.09</td>\n",
       "      <td>15</td>\n",
       "      <td>79</td>\n",
       "      <td>4.74</td>\n",
       "    </tr>\n",
       "    <tr>\n",
       "      <th>569</th>\n",
       "      <td>Santiago del Estero</td>\n",
       "      <td>3835869</td>\n",
       "      <td>AR</td>\n",
       "      <td>1619410728</td>\n",
       "      <td>-27.7951</td>\n",
       "      <td>-64.2615</td>\n",
       "      <td>59.86</td>\n",
       "      <td>59.86</td>\n",
       "      <td>0</td>\n",
       "      <td>67</td>\n",
       "      <td>6.40</td>\n",
       "    </tr>\n",
       "  </tbody>\n",
       "</table>\n",
       "<p>167 rows × 11 columns</p>\n",
       "</div>"
      ],
      "text/plain": [
       "                    city  city_id country      utc_dt  latitude  longitude  \\\n",
       "1                Ushuaia  3833367      AR  1619410536  -54.8000   -68.3000   \n",
       "2           Punta Arenas  3874787      CL  1619409996  -53.1500   -70.9167   \n",
       "4                Atambua  1651103      ID  1619410537   -9.1061   124.8925   \n",
       "6               Hermanus  3366880      ZA  1619410505  -34.4187    19.2345   \n",
       "7             Bredasdorp  1015776      ZA  1619409996  -34.5322    20.0403   \n",
       "..                   ...      ...     ...         ...       ...        ...   \n",
       "558             Waingapu  1622318      ID  1619410609   -9.6567   120.2641   \n",
       "559            Singaraja  1626932      ID  1619410636   -8.1120   115.0882   \n",
       "567           Balikpapan  1650527      ID  1619410629   -1.2675   116.8289   \n",
       "568              Kasempa   912628      ZM  1619410727  -13.4584    25.8338   \n",
       "569  Santiago del Estero  3835869      AR  1619410728  -27.7951   -64.2615   \n",
       "\n",
       "     temperature  max_temp  cloudiness  humidity  wind_speed  \n",
       "1          46.40     46.40          75        76       12.66  \n",
       "2          44.29     44.60          90        93        5.75  \n",
       "4          82.76     82.76          26        45        2.44  \n",
       "6          60.01     60.01           1        92        7.00  \n",
       "7          51.80     51.80          93        93        4.61  \n",
       "..           ...       ...         ...       ...         ...  \n",
       "558        84.85     84.85          25        54       12.97  \n",
       "559        86.58     86.58           0        60        3.27  \n",
       "567        85.95     85.95          43        61        6.33  \n",
       "568        59.09     59.09          15        79        4.74  \n",
       "569        59.86     59.86           0        67        6.40  \n",
       "\n",
       "[167 rows x 11 columns]"
      ]
     },
     "execution_count": 11,
     "metadata": {},
     "output_type": "execute_result"
    }
   ],
   "source": [
    "#create dataframes for North & South for simplier analysis\n",
    "northern_hem_df = weather_df.loc[weather_df['latitude']>=0]\n",
    "#northern_hem_df\n",
    "\n",
    "southern_hem_df = weather_df.loc[weather_df['latitude']<=0]\n",
    "southern_hem_df"
   ]
  },
  {
   "cell_type": "markdown",
   "metadata": {},
   "source": [
    "####  Northern Hemisphere - Max Temp vs. Latitude Linear Regression"
   ]
  },
  {
   "cell_type": "code",
   "execution_count": 12,
   "metadata": {},
   "outputs": [
    {
     "data": {
      "image/png": "[encoded data removed]",
      "text/plain": [
       "<Figure size 432x288 with 1 Axes>"
      ]
     },
     "metadata": {
      "needs_background": "light"
     },
     "output_type": "display_data"
    }
   ],
   "source": [
    "x=northern_hem_df['latitude']\n",
    "y=northern_hem_df['max_temp']\n",
    "\n",
    "(slope, intercept, rvalue, pvalue, stderr) = linregress(x,y)\n",
    "regress_values = x * slope + intercept\n",
    "line_eq = \"y = \" + str(round(slope,2)) + \"x + \" + str(round(intercept,2))\n",
    "   \n",
    "plt.scatter(x,y)\n",
    "plt.plot(x,regress_values,\"r-\")\n",
    "plt.xlabel(\"Latitude\")\n",
    "plt.ylabel(\"Max Temperature (F)\")\n",
    "plt.title(f\"Temperature vs Latitude \\n Northern Hemisphere  \\n April 25, 2021\")\n",
    "plt.annotate(line_eq,(0,10),fontsize=15,color='red')\n",
    "plt.savefig('Temp_vs_Lat_NorthernHem')\n",
    "plt.show()"
   ]
  },
  {
   "cell_type": "markdown",
   "metadata": {},
   "source": [
    "####  Southern Hemisphere - Max Temp vs. Latitude Linear Regression"
   ]
  },
  {
   "cell_type": "code",
   "execution_count": 13,
   "metadata": {},
   "outputs": [
    {
     "data": {
      "image/png": "[encoded data removed]",
      "text/plain": [
       "<Figure size 432x288 with 1 Axes>"
      ]
     },
     "metadata": {
      "needs_background": "light"
     },
     "output_type": "display_data"
    }
   ],
   "source": [
    "x=southern_hem_df['latitude']\n",
    "y=southern_hem_df['max_temp']\n",
    "\n",
    "(slope, intercept, rvalue, pvalue, stderr) = linregress(x,y)\n",
    "regress_values = x * slope + intercept\n",
    "line_eq = \"y = \" + str(round(slope,2)) + \"x + \" + str(round(intercept,2))\n",
    "   \n",
    "plt.scatter(x,y)\n",
    "plt.plot(x,regress_values,\"r-\")\n",
    "plt.xlabel(\"Latitude\")\n",
    "plt.ylabel(\"Max Temperature (F)\")\n",
    "plt.title(f\"Temperature vs Latitude \\n Southern Hemisphere  \\n April 25, 2021\")\n",
    "plt.annotate(line_eq,(-50,90),fontsize=15,color='red')\n",
    "plt.savefig('Temp_vs_Lat_SouthernHem')\n",
    "plt.show()"
   ]
  },
  {
   "cell_type": "markdown",
   "metadata": {},
   "source": [
    "### Analysis\n",
    "- As stated above, latitude has a directly correlated to temperatures.  The closer you are to the equator, the higher the temperatures.  This is evidenced with the regression line for both the northern and southern hemispheres graphs. (Analysis 4/25)"
   ]
  },
  {
   "cell_type": "markdown",
   "metadata": {},
   "source": [
    "####  Northern Hemisphere - Humidity (%) vs. Latitude Linear Regression"
   ]
  },
  {
   "cell_type": "code",
   "execution_count": 14,
   "metadata": {},
   "outputs": [
    {
     "data": {
      "image/png": "[encoded data removed]",
      "text/plain": [
       "<Figure size 432x288 with 1 Axes>"
      ]
     },
     "metadata": {
      "needs_background": "light"
     },
     "output_type": "display_data"
    }
   ],
   "source": [
    "x=northern_hem_df['latitude']\n",
    "y=northern_hem_df['humidity']\n",
    "\n",
    "(slope, intercept, rvalue, pvalue, stderr) = linregress(x,y)\n",
    "regress_values = x * slope + intercept\n",
    "line_eq = \"y = \" + str(round(slope,2)) + \"x + \" + str(round(intercept,2))\n",
    "   \n",
    "plt.scatter(x,y)\n",
    "plt.plot(x,regress_values,\"r-\")\n",
    "plt.xlabel(\"Latitude\")\n",
    "plt.ylabel(\"Humidity\")\n",
    "plt.title(f\"Humidity vs Latitude \\n Northern Hemisphere  \\n April 25, 2021\")\n",
    "plt.annotate(line_eq,(45,5),fontsize=15,color='red')\n",
    "plt.savefig('Humidity_vs_Lat_NorthernHem')\n",
    "plt.show()"
   ]
  },
  {
   "cell_type": "markdown",
   "metadata": {},
   "source": [
    "####  Southern Hemisphere - Humidity (%) vs. Latitude Linear Regression"
   ]
  },
  {
   "cell_type": "code",
   "execution_count": 15,
   "metadata": {},
   "outputs": [
    {
     "data": {
      "image/png": "[encoded data removed]",
      "text/plain": [
       "<Figure size 432x288 with 1 Axes>"
      ]
     },
     "metadata": {
      "needs_background": "light"
     },
     "output_type": "display_data"
    }
   ],
   "source": [
    "x=southern_hem_df['latitude']\n",
    "y=southern_hem_df['humidity']\n",
    "\n",
    "(slope, intercept, rvalue, pvalue, stderr) = linregress(x,y)\n",
    "regress_values = x * slope + intercept\n",
    "line_eq = \"y = \" + str(round(slope,2)) + \"x + \" + str(round(intercept,2))\n",
    "   \n",
    "plt.scatter(x,y)\n",
    "plt.plot(x,regress_values,\"r-\")\n",
    "plt.xlabel(\"Latitude\")\n",
    "plt.ylabel(\"Humidity\")\n",
    "plt.title(f\"Humidity vs Latitude \\n Southern Hemisphere  \\n April 25, 2021\")\n",
    "plt.annotate(line_eq,(-55,20),fontsize=15,color='red')\n",
    "plt.savefig('Humidity_vs_Lat_SouthernHem')\n",
    "plt.show()"
   ]
  },
  {
   "cell_type": "markdown",
   "metadata": {},
   "source": [
    "### Analysis\n",
    "- Latitude no affect on humidity for either the northern or southern hemisphere.  This is confirmed with the respective low r-values, northern (0.11) and southern (0.3).  (Analysis 4/25)"
   ]
  },
  {
   "cell_type": "markdown",
   "metadata": {},
   "source": [
    "####  Northern Hemisphere - Cloudiness (%) vs. Latitude Linear Regression"
   ]
  },
  {
   "cell_type": "code",
   "execution_count": 16,
   "metadata": {},
   "outputs": [
    {
     "data": {
      "image/png": "[encoded data removed]",
      "text/plain": [
       "<Figure size 432x288 with 1 Axes>"
      ]
     },
     "metadata": {
      "needs_background": "light"
     },
     "output_type": "display_data"
    },
    {
     "name": "stdout",
     "output_type": "stream",
     "text": [
      "Linear regression: y = 0.27x + 43.63\n"
     ]
    }
   ],
   "source": [
    "x=northern_hem_df['latitude']\n",
    "y=northern_hem_df['cloudiness']\n",
    "\n",
    "(slope, intercept, rvalue, pvalue, stderr) = linregress(x,y)\n",
    "regress_values = x * slope + intercept\n",
    "line_eq = \"y = \" + str(round(slope,2)) + \"x + \" + str(round(intercept,2))\n",
    "\n",
    "plt.scatter(x,y)\n",
    "plt.plot(x,regress_values,\"r-\")\n",
    "plt.xlabel(\"Latitude\")\n",
    "plt.ylabel(\"Cloudiness\")\n",
    "plt.title(f\"Cloudiness vs Latitude \\n Northern Hemisphere  \\n April 25, 2021\")\n",
    "plt.annotate(line_eq,(0,60),fontsize=15,color='red')\n",
    "plt.savefig('Cloudiness_vs_Lat_NorthernHem')\n",
    "plt.show()\n",
    "print(f\"Linear regression: {line_eq}\")"
   ]
  },
  {
   "cell_type": "markdown",
   "metadata": {},
   "source": [
    "####  Southern Hemisphere - Cloudiness (%) vs. Latitude Linear Regression"
   ]
  },
  {
   "cell_type": "code",
   "execution_count": 17,
   "metadata": {},
   "outputs": [
    {
     "data": {
      "image/png": "[encoded data removed]",
      "text/plain": [
       "<Figure size 432x288 with 1 Axes>"
      ]
     },
     "metadata": {
      "needs_background": "light"
     },
     "output_type": "display_data"
    },
    {
     "name": "stdout",
     "output_type": "stream",
     "text": [
      "Linear regression: y = 0.03x + 44.3\n"
     ]
    }
   ],
   "source": [
    "x=southern_hem_df['latitude']\n",
    "y=southern_hem_df['cloudiness']\n",
    "\n",
    "(slope, intercept, rvalue, pvalue, stderr) = linregress(x,y)\n",
    "regress_values = x * slope + intercept\n",
    "line_eq = \"y = \" + str(round(slope,2)) + \"x + \" + str(round(intercept,2))\n",
    "\n",
    "plt.scatter(x,y)\n",
    "plt.plot(x,regress_values,\"r-\")\n",
    "plt.xlabel(\"Latitude\")\n",
    "plt.ylabel(\"Cloudiness\")\n",
    "plt.title(f\"Cloudiness vs Latitude \\n Southern Hemisphere  \\n April 25, 2021\")\n",
    "plt.annotate(line_eq,(-50,60),fontsize=15,color='red')\n",
    "plt.savefig('Cloudiness_vs_Lat_SouthernHem')\n",
    "plt.show()\n",
    "print(f\"Linear regression: {line_eq}\")"
   ]
  },
  {
   "cell_type": "markdown",
   "metadata": {},
   "source": [
    "### Analysis\n",
    "Latitude no affect on cloudiness for either the northern or southern hemisphere. This is confirmed with the respective low r-values, northern (0.34) and southern (0.58).  The northern hemisphere's higher r-value may be due to seasonality as it is early spring.  (Analysis 4/25)"
   ]
  },
  {
   "cell_type": "markdown",
   "metadata": {},
   "source": [
    "####  Northern Hemisphere - Wind Speed (mph) vs. Latitude Linear Regression"
   ]
  },
  {
   "cell_type": "code",
   "execution_count": 18,
   "metadata": {},
   "outputs": [
    {
     "data": {
      "image/png": "[encoded data removed]",
      "text/plain": [
       "<Figure size 432x288 with 1 Axes>"
      ]
     },
     "metadata": {
      "needs_background": "light"
     },
     "output_type": "display_data"
    },
    {
     "name": "stdout",
     "output_type": "stream",
     "text": [
      "Linear regression: y = 0.06x + 5.27\n"
     ]
    }
   ],
   "source": [
    "x=northern_hem_df['latitude']\n",
    "y=northern_hem_df['wind_speed']\n",
    "\n",
    "(slope, intercept, rvalue, pvalue, stderr) = linregress(x,y)\n",
    "regress_values = x * slope + intercept\n",
    "line_eq = \"y = \" + str(round(slope,2)) + \"x + \" + str(round(intercept,2))\n",
    "\n",
    "plt.scatter(x,y)\n",
    "plt.plot(x,regress_values,\"r-\")\n",
    "plt.xlabel(\"Latitude\")\n",
    "plt.ylabel(\"Wind Speed (mph)\")\n",
    "plt.title(f\"Wind Speed vs Latitude \\n Northern Hemisphere  \\n April 25, 2021\")\n",
    "plt.annotate(line_eq,(0,20),fontsize=15,color='red')\n",
    "plt.savefig('WindSpeed_vs_Lat_NorthernHem')\n",
    "plt.show()\n",
    "print(f\"Linear regression: {line_eq}\")"
   ]
  },
  {
   "cell_type": "markdown",
   "metadata": {},
   "source": [
    "####  Southern Hemisphere - Wind Speed (mph) vs. Latitude Linear Regression"
   ]
  },
  {
   "cell_type": "code",
   "execution_count": 19,
   "metadata": {},
   "outputs": [
    {
     "data": {
      "image/png": "[encoded data removed]",
      "text/plain": [
       "<Figure size 432x288 with 1 Axes>"
      ]
     },
     "metadata": {
      "needs_background": "light"
     },
     "output_type": "display_data"
    },
    {
     "name": "stdout",
     "output_type": "stream",
     "text": [
      "Linear regression: y = -0.16x + 3.79\n"
     ]
    }
   ],
   "source": [
    "x=southern_hem_df['latitude']\n",
    "y=southern_hem_df['wind_speed']\n",
    "\n",
    "(slope, intercept, rvalue, pvalue, stderr) = linregress(x,y)\n",
    "regress_values = x * slope + intercept\n",
    "line_eq = \"y = \" + str(round(slope,2)) + \"x + \" + str(round(intercept,2))\n",
    "\n",
    "plt.scatter(x,y)\n",
    "plt.plot(x,regress_values,\"r-\")\n",
    "plt.xlabel(\"Latitude\")\n",
    "plt.ylabel(\"Wind Speed (mph)\")\n",
    "plt.title(f\"Wind Speed vs Latitude \\n Southern Hemisphere \\n April 25, 2021\")\n",
    "plt.annotate(line_eq,(-55,20),fontsize=15,color='red')\n",
    "plt.savefig('WindSpeed_vs_Lat_SouthernHem')\n",
    "plt.show()\n",
    "print(f\"Linear regression: {line_eq}\")"
   ]
  },
  {
   "cell_type": "markdown",
   "metadata": {},
   "source": [
    "### Analysis\n",
    "Wind speed is not related to latitude.   This is confirmed with the respective low r-values, northern (0.05) and southern (0.07). (Analysis 4/25)"
   ]
  },
  {
   "cell_type": "code",
   "execution_count": null,
   "metadata": {},
   "outputs": [],
   "source": []
  }
 ],
 "metadata": {
  "anaconda-cloud": {},
  "kernel_info": {
   "name": "python3"
  },
  "kernelspec": {
   "display_name": "Python 3",
   "language": "python",
   "name": "python3"
  },
  "language_info": {
   "codemirror_mode": {
    "name": "ipython",
    "version": 3
   },
   "file_extension": ".py",
   "mimetype": "text/x-python",
   "name": "python",
   "nbconvert_exporter": "python",
   "pygments_lexer": "ipython3",
   "version": "3.8.5"
  },
  "latex_envs": {
   "LaTeX_envs_menu_present": true,
   "autoclose": false,
   "autocomplete": true,
   "bibliofile": "biblio.bib",
   "cite_by": "apalike",
   "current_citInitial": 1,
   "eqLabelWithNumbers": true,
   "eqNumInitial": 1,
   "hotkeys": {
    "equation": "Ctrl-E",
    "itemize": "Ctrl-I"
   },
   "labels_anchors": false,
   "latex_user_defs": false,
   "report_style_numbering": false,
   "user_envs_cfg": false
  },
  "nteract": {
   "version": "0.12.3"
  }
 },
 "nbformat": 4,
 "nbformat_minor": 2
}
